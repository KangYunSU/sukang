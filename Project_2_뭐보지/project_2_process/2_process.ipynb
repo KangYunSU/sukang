{
 "cells": [
  {
   "cell_type": "markdown",
   "metadata": {},
   "source": [
    "## 라이브러리"
   ]
  },
  {
   "cell_type": "code",
   "execution_count": 124,
   "metadata": {},
   "outputs": [],
   "source": [
    "import pandas as pd\n",
    "from random import *\n",
    "from pandas import DataFrame"
   ]
  },
  {
   "cell_type": "markdown",
   "metadata": {},
   "source": [
    "## 드라마 데이터 불러오기"
   ]
  },
  {
   "cell_type": "code",
   "execution_count": 125,
   "metadata": {},
   "outputs": [
    {
     "data": {
      "text/html": [
       "<div>\n",
       "<style scoped>\n",
       "    .dataframe tbody tr th:only-of-type {\n",
       "        vertical-align: middle;\n",
       "    }\n",
       "\n",
       "    .dataframe tbody tr th {\n",
       "        vertical-align: top;\n",
       "    }\n",
       "\n",
       "    .dataframe thead th {\n",
       "        text-align: right;\n",
       "    }\n",
       "</style>\n",
       "<table border=\"1\" class=\"dataframe\">\n",
       "  <thead>\n",
       "    <tr style=\"text-align: right;\">\n",
       "      <th></th>\n",
       "      <th>제목</th>\n",
       "      <th>장르</th>\n",
       "      <th>배우</th>\n",
       "      <th>연도</th>\n",
       "      <th>OTT</th>\n",
       "    </tr>\n",
       "  </thead>\n",
       "  <tbody>\n",
       "    <tr>\n",
       "      <th>0</th>\n",
       "      <td>아적비밀실우</td>\n",
       "      <td>로맨스, 판타지</td>\n",
       "      <td>함연지, 양욱문</td>\n",
       "      <td>2022</td>\n",
       "      <td>아이치이</td>\n",
       "    </tr>\n",
       "    <tr>\n",
       "      <th>1</th>\n",
       "      <td>창란결</td>\n",
       "      <td>로맨스, 판타지</td>\n",
       "      <td>우서흔, 왕허디, 장릉혁</td>\n",
       "      <td>2022</td>\n",
       "      <td>웨이브, 아이치이</td>\n",
       "    </tr>\n",
       "    <tr>\n",
       "      <th>2</th>\n",
       "      <td>이진제연애</td>\n",
       "      <td>로맨스, 현대극, 캠퍼스</td>\n",
       "      <td>좡다페이, 런유룬</td>\n",
       "      <td>2022</td>\n",
       "      <td>웨이브</td>\n",
       "    </tr>\n",
       "    <tr>\n",
       "      <th>3</th>\n",
       "      <td>명천야상견도니</td>\n",
       "      <td>로맨스, 현대극, 캠퍼스</td>\n",
       "      <td>장추한, 장캉러</td>\n",
       "      <td>2022</td>\n",
       "      <td>웨이브, 아이치이</td>\n",
       "    </tr>\n",
       "    <tr>\n",
       "      <th>4</th>\n",
       "      <td>여생청다지교</td>\n",
       "      <td>로맨스, 현대극, 캠퍼스</td>\n",
       "      <td>샤오잔, 양쯔</td>\n",
       "      <td>2022</td>\n",
       "      <td>웨이브</td>\n",
       "    </tr>\n",
       "    <tr>\n",
       "      <th>5</th>\n",
       "      <td>아적린거장부대</td>\n",
       "      <td>로맨스, 현대극</td>\n",
       "      <td>이계예, 하여</td>\n",
       "      <td>2021</td>\n",
       "      <td>웨이브</td>\n",
       "    </tr>\n",
       "    <tr>\n",
       "      <th>6</th>\n",
       "      <td>암격리적비밀</td>\n",
       "      <td>로맨스, 현대극, 청춘</td>\n",
       "      <td>진철원, 쉬멍제</td>\n",
       "      <td>2022</td>\n",
       "      <td>웨이브</td>\n",
       "    </tr>\n",
       "    <tr>\n",
       "      <th>7</th>\n",
       "      <td>성한찬란</td>\n",
       "      <td>로맨스, 시대극</td>\n",
       "      <td>조로사, 오뢰</td>\n",
       "      <td>2022</td>\n",
       "      <td>위티비</td>\n",
       "    </tr>\n",
       "    <tr>\n",
       "      <th>8</th>\n",
       "      <td>비호외전</td>\n",
       "      <td>로맨스, 시대극, 무협</td>\n",
       "      <td>형비, 친쥔제, 양결, 임우신</td>\n",
       "      <td>2022</td>\n",
       "      <td>위티비</td>\n",
       "    </tr>\n",
       "    <tr>\n",
       "      <th>9</th>\n",
       "      <td>아적반파남우</td>\n",
       "      <td>로맨스, 코미디</td>\n",
       "      <td>진철원, 선웨</td>\n",
       "      <td>2022</td>\n",
       "      <td>아이치이</td>\n",
       "    </tr>\n",
       "    <tr>\n",
       "      <th>10</th>\n",
       "      <td>견면파취현재</td>\n",
       "      <td>로맨스, 현대극</td>\n",
       "      <td>루양양, 하여</td>\n",
       "      <td>2022</td>\n",
       "      <td>아이치이</td>\n",
       "    </tr>\n",
       "    <tr>\n",
       "      <th>11</th>\n",
       "      <td>연애적하천</td>\n",
       "      <td>로맨스, 현대극</td>\n",
       "      <td>우치엔, 친췬제, 양병탁</td>\n",
       "      <td>2022</td>\n",
       "      <td>위티비</td>\n",
       "    </tr>\n",
       "  </tbody>\n",
       "</table>\n",
       "</div>"
      ],
      "text/plain": [
       "         제목             장르                배우    연도        OTT\n",
       "0    아적비밀실우       로맨스, 판타지          함연지, 양욱문  2022       아이치이\n",
       "1       창란결       로맨스, 판타지     우서흔, 왕허디, 장릉혁  2022  웨이브, 아이치이\n",
       "2     이진제연애  로맨스, 현대극, 캠퍼스         좡다페이, 런유룬  2022        웨이브\n",
       "3   명천야상견도니  로맨스, 현대극, 캠퍼스          장추한, 장캉러  2022  웨이브, 아이치이\n",
       "4    여생청다지교  로맨스, 현대극, 캠퍼스           샤오잔, 양쯔  2022        웨이브\n",
       "5   아적린거장부대       로맨스, 현대극           이계예, 하여  2021        웨이브\n",
       "6    암격리적비밀   로맨스, 현대극, 청춘          진철원, 쉬멍제  2022        웨이브\n",
       "7      성한찬란       로맨스, 시대극           조로사, 오뢰  2022        위티비\n",
       "8      비호외전   로맨스, 시대극, 무협  형비, 친쥔제, 양결, 임우신  2022        위티비\n",
       "9    아적반파남우       로맨스, 코미디           진철원, 선웨  2022       아이치이\n",
       "10   견면파취현재       로맨스, 현대극           루양양, 하여  2022       아이치이\n",
       "11    연애적하천       로맨스, 현대극     우치엔, 친췬제, 양병탁  2022        위티비"
      ]
     },
     "execution_count": 125,
     "metadata": {},
     "output_type": "execute_result"
    }
   ],
   "source": [
    "df = pd.read_csv(\"C:\\\\Users\\das52\\\\OneDrive\\\\바탕 화면\\\\아이디어박스\\\\중국드라마 추천\\\\Cdrama.csv\")\n",
    "df = pd.DataFrame(df)\n",
    "df"
   ]
  },
  {
   "cell_type": "markdown",
   "metadata": {},
   "source": [
    "### 컬럼 확인"
   ]
  },
  {
   "cell_type": "code",
   "execution_count": 126,
   "metadata": {},
   "outputs": [
    {
     "data": {
      "text/plain": [
       "Index(['제목', '장르', '배우', '연도', 'OTT'], dtype='object')"
      ]
     },
     "execution_count": 126,
     "metadata": {},
     "output_type": "execute_result"
    }
   ],
   "source": [
    "col = df.columns\n",
    "col"
   ]
  },
  {
   "cell_type": "markdown",
   "metadata": {},
   "source": [
    "### 컬럼별 데이터 확인"
   ]
  },
  {
   "cell_type": "code",
   "execution_count": 127,
   "metadata": {},
   "outputs": [
    {
     "data": {
      "text/plain": [
       "0          로맨스, 판타지\n",
       "1          로맨스, 판타지\n",
       "2     로맨스, 현대극, 캠퍼스\n",
       "3     로맨스, 현대극, 캠퍼스\n",
       "4     로맨스, 현대극, 캠퍼스\n",
       "5          로맨스, 현대극\n",
       "6      로맨스, 현대극, 청춘\n",
       "7          로맨스, 시대극\n",
       "8      로맨스, 시대극, 무협\n",
       "9          로맨스, 코미디\n",
       "10         로맨스, 현대극\n",
       "11         로맨스, 현대극\n",
       "Name: 장르, dtype: object"
      ]
     },
     "execution_count": 127,
     "metadata": {},
     "output_type": "execute_result"
    }
   ],
   "source": [
    "genre = df['장르']\n",
    "genre"
   ]
  },
  {
   "cell_type": "code",
   "execution_count": 128,
   "metadata": {},
   "outputs": [
    {
     "data": {
      "text/plain": [
       "0             함연지, 양욱문\n",
       "1        우서흔, 왕허디, 장릉혁\n",
       "2            좡다페이, 런유룬\n",
       "3             장추한, 장캉러\n",
       "4              샤오잔, 양쯔\n",
       "5              이계예, 하여\n",
       "6             진철원, 쉬멍제\n",
       "7              조로사, 오뢰\n",
       "8     형비, 친쥔제, 양결, 임우신\n",
       "9              진철원, 선웨\n",
       "10             루양양, 하여\n",
       "11       우치엔, 친췬제, 양병탁\n",
       "Name: 배우, dtype: object"
      ]
     },
     "execution_count": 128,
     "metadata": {},
     "output_type": "execute_result"
    }
   ],
   "source": [
    "actor = df['배우']\n",
    "actor"
   ]
  },
  {
   "cell_type": "markdown",
   "metadata": {},
   "source": [
    "### 하나의 리스트로 만든 후 중복 제거"
   ]
  },
  {
   "cell_type": "code",
   "execution_count": 129,
   "metadata": {},
   "outputs": [
    {
     "data": {
      "text/plain": [
       "['로맨스', '판타지', '현대극', '캠퍼스', '청춘', '시대극', '무협', '코미디']"
      ]
     },
     "execution_count": 129,
     "metadata": {},
     "output_type": "execute_result"
    }
   ],
   "source": [
    "genre = df['장르']\n",
    "genre = df['장르'].str.split(',')\n",
    "genre = genre.apply(lambda x: pd.Series(x))\n",
    "genre = genre.stack()\n",
    "genre = genre.drop_duplicates()\n",
    "# genre = list(genre)\n",
    "genre = [i.replace(\" \", \"\") for i in genre]\n",
    "genre"
   ]
  },
  {
   "cell_type": "code",
   "execution_count": 130,
   "metadata": {},
   "outputs": [
    {
     "data": {
      "text/plain": [
       "['함연지',\n",
       " '양욱문',\n",
       " '우서흔',\n",
       " '왕허디',\n",
       " '장릉혁',\n",
       " '좡다페이',\n",
       " '런유룬',\n",
       " '장추한',\n",
       " '장캉러',\n",
       " '샤오잔',\n",
       " '양쯔',\n",
       " '이계예',\n",
       " '하여',\n",
       " '진철원',\n",
       " '쉬멍제',\n",
       " '조로사',\n",
       " '오뢰',\n",
       " '형비',\n",
       " '친쥔제',\n",
       " '양결',\n",
       " '임우신',\n",
       " '선웨',\n",
       " '루양양',\n",
       " '우치엔',\n",
       " '친췬제',\n",
       " '양병탁']"
      ]
     },
     "execution_count": 130,
     "metadata": {},
     "output_type": "execute_result"
    }
   ],
   "source": [
    "actor = df['배우'].str.split(',')\n",
    "actor = actor.apply(lambda x: pd.Series(x))\n",
    "actor = actor.stack()\n",
    "actor = actor.drop_duplicates()\n",
    "# actor = list(actor)\n",
    "actor = [i.replace(\" \", \"\") for i in actor]\n",
    "actor"
   ]
  },
  {
   "cell_type": "code",
   "execution_count": 131,
   "metadata": {},
   "outputs": [
    {
     "data": {
      "text/plain": [
       "[2022, 2021]"
      ]
     },
     "execution_count": 131,
     "metadata": {},
     "output_type": "execute_result"
    }
   ],
   "source": [
    "year = df['연도']\n",
    "# year = df['연도'].str.split(',')\n",
    "year = year.apply(lambda x: pd.Series(x))\n",
    "year = year.stack()\n",
    "year = year.drop_duplicates()\n",
    "year = list(year)\n",
    "# year = [i.replace(\" \", \"\") for i in year]\n",
    "year"
   ]
  },
  {
   "cell_type": "code",
   "execution_count": 132,
   "metadata": {},
   "outputs": [
    {
     "data": {
      "text/plain": [
       "['위티비', '웨이브', '아이치이']"
      ]
     },
     "execution_count": 132,
     "metadata": {},
     "output_type": "execute_result"
    }
   ],
   "source": [
    "# 수정하기\n",
    "OTT = df['OTT']\n",
    "OTT = df['OTT'].str.split(',')\n",
    "OTT = OTT.apply(lambda x: pd.Series(x))\n",
    "OTT = OTT.stack()\n",
    "OTT = OTT.drop_duplicates()\n",
    "OTT = [i.replace(\" \", \"\") for i in OTT]\n",
    "OTT = list(set(OTT))\n",
    "OTT"
   ]
  },
  {
   "cell_type": "markdown",
   "metadata": {},
   "source": [
    "## 장르별 드라마 출력"
   ]
  },
  {
   "cell_type": "code",
   "execution_count": 133,
   "metadata": {},
   "outputs": [
    {
     "name": "stdout",
     "output_type": "stream",
     "text": [
      "genres : ['이진제연애', '명천야상견도니', '여생청다지교', '아적린거장부대', '암격리적비밀', '견면파취현재', '연애적하천']\n"
     ]
    }
   ],
   "source": [
    "g = '현대극'\n",
    "\n",
    "if g in genre:\n",
    "    genres = df['장르'].str.contains(g)\n",
    "    genres = df[genres]['제목'].values\n",
    "    genres = list(genres)\n",
    "    print('genres :', genres)\n",
    "\n",
    "else:\n",
    "    print('장르별 : 다시 하자')"
   ]
  },
  {
   "cell_type": "markdown",
   "metadata": {},
   "source": [
    "## 배우별 드라마 출력"
   ]
  },
  {
   "cell_type": "code",
   "execution_count": 134,
   "metadata": {},
   "outputs": [
    {
     "name": "stdout",
     "output_type": "stream",
     "text": [
      "actors : ['아적린거장부대', '견면파취현재']\n"
     ]
    }
   ],
   "source": [
    "a = '하여'\n",
    "\n",
    "if a in actor:\n",
    "    actors = df['배우'].str.contains(a)\n",
    "    actors = df[actors]['제목'].values\n",
    "    actors = list(actors)\n",
    "    print('actors :', actors)\n",
    "\n",
    "else:\n",
    "    print('배우별 : 다시 하자')"
   ]
  },
  {
   "cell_type": "markdown",
   "metadata": {},
   "source": [
    "## 연도별 드라마 출력"
   ]
  },
  {
   "cell_type": "code",
   "execution_count": 135,
   "metadata": {},
   "outputs": [
    {
     "name": "stdout",
     "output_type": "stream",
     "text": [
      "years \n",
      " : ['아적비밀실우', '창란결', '이진제연애', '명천야상견도니', '여생청다지교', '암격리적비밀', '성한찬란', '비호외전', '아적반파남우', '견면파취현재', '연애적하천']\n"
     ]
    }
   ],
   "source": [
    "y = 2022\n",
    "\n",
    "if y in year:\n",
    "    years = (df['연도'] == y)\n",
    "    years = df[years]['제목'].values\n",
    "    years = list(years)\n",
    "    print('years \\n :', years)\n",
    "\n",
    "else:\n",
    "    print('연도별 : 다시 하자')"
   ]
  },
  {
   "cell_type": "markdown",
   "metadata": {},
   "source": [
    "## OTT별 드라마 출력"
   ]
  },
  {
   "cell_type": "code",
   "execution_count": 136,
   "metadata": {},
   "outputs": [
    {
     "name": "stdout",
     "output_type": "stream",
     "text": [
      "OTTs \n",
      " : ['아적비밀실우', '창란결', '명천야상견도니', '아적반파남우', '견면파취현재']\n"
     ]
    }
   ],
   "source": [
    "o = '아이치이'\n",
    "\n",
    "if o in OTT:\n",
    "    OTTs = df['OTT'].str.contains(o)\n",
    "    OTTs = df[OTTs]['제목'].values\n",
    "    OTTs = list(OTTs)\n",
    "    print('OTTs \\n :', OTTs)\n",
    "\n",
    "else:\n",
    "    print('OTT별 : 다시 하자')"
   ]
  },
  {
   "cell_type": "markdown",
   "metadata": {},
   "source": [
    "## 리스트 중복 뽑기"
   ]
  },
  {
   "cell_type": "markdown",
   "metadata": {},
   "source": [
    "- 장르 & 배우"
   ]
  },
  {
   "cell_type": "code",
   "execution_count": 137,
   "metadata": {},
   "outputs": [
    {
     "name": "stdout",
     "output_type": "stream",
     "text": [
      "['아적린거장부대', '견면파취현재']\n"
     ]
    }
   ],
   "source": [
    "genres = set(genres)\n",
    "actors = set(actors)\n",
    "\n",
    "print(list(genres & actors))"
   ]
  },
  {
   "cell_type": "markdown",
   "metadata": {},
   "source": [
    "- 장르 & 배우 & 연도 & OTT"
   ]
  },
  {
   "cell_type": "code",
   "execution_count": 138,
   "metadata": {},
   "outputs": [
    {
     "name": "stdout",
     "output_type": "stream",
     "text": [
      "['견면파취현재']\n"
     ]
    }
   ],
   "source": [
    "genres = set(genres)\n",
    "actors = set(actors)\n",
    "years = set(years)\n",
    "OTTs = set(OTTs)\n",
    "\n",
    "print(list(genres & actors & years & OTTs))"
   ]
  },
  {
   "cell_type": "markdown",
   "metadata": {},
   "source": [
    "## 추천 코드 1"
   ]
  },
  {
   "cell_type": "markdown",
   "metadata": {},
   "source": [
    "### 데이터에 맞게 입력했을 때 돌아가는 코드\n",
    "- 장르, 배우별 드라마 추천"
   ]
  },
  {
   "cell_type": "code",
   "execution_count": 139,
   "metadata": {},
   "outputs": [
    {
     "name": "stdout",
     "output_type": "stream",
     "text": [
      "👑 추천 드라마 : 암격리적비밀\n"
     ]
    }
   ],
   "source": [
    "g = '현대극'\n",
    "a = '진철원'\n",
    "\n",
    "def drama(g, a):\n",
    "    \n",
    "    if g in genre:\n",
    "        genres = df['장르'].str.contains(g)\n",
    "        genres = df[genres]['제목'].values\n",
    "        genres = set(genres)\n",
    "\n",
    "        if a in actor:\n",
    "            actors = df['배우'].str.contains(a)\n",
    "            actors = df[actors]['제목'].values\n",
    "            actors = set(actors)\n",
    "\n",
    "            print('👑 추천 드라마 :', choice(list(actors & genres)))\n",
    "\n",
    "        else:\n",
    "            print('배우를 다시 입력해주세요')\n",
    "\n",
    "    else:\n",
    "        print('장르를 다시 입력해주세요')\n",
    "\n",
    "drama(g, a)"
   ]
  },
  {
   "cell_type": "code",
   "execution_count": 140,
   "metadata": {},
   "outputs": [
    {
     "name": "stdout",
     "output_type": "stream",
     "text": [
      "📺 판타지 드라마는 : {'아적비밀실우', '창란결'}\n",
      "❤️ 우서흔 배우가 출연한 드라마는 : {'창란결'}\n",
      "👑 추천 드라마 : 창란결\n"
     ]
    }
   ],
   "source": [
    "def drama(g, a):\n",
    "\n",
    "    if g in genre:\n",
    "        genres = df['장르'].str.contains(g)\n",
    "        genres = df[genres]['제목'].values\n",
    "        genres = set(genres)\n",
    "        print(f'📺 {g} 드라마는 : {genres}')\n",
    "\n",
    "        if a in actor:\n",
    "            actors = df['배우'].str.contains(a)\n",
    "            actors = df[actors]['제목'].values\n",
    "            actors = set(actors)\n",
    "            print(f'❤️ {a} 배우가 출연한 드라마는 : {actors}')\n",
    "\n",
    "            print('👑 추천 드라마 :', choice(list(genres & actors)))\n",
    "\n",
    "drama('판타지', '우서흔')"
   ]
  },
  {
   "cell_type": "markdown",
   "metadata": {},
   "source": [
    "### 데이터에 없을 때 실행되는 코드"
   ]
  },
  {
   "cell_type": "code",
   "execution_count": 141,
   "metadata": {},
   "outputs": [
    {
     "name": "stdout",
     "output_type": "stream",
     "text": [
      "📺 시대극 드라마는 \n",
      " 👉 ['성한찬란', '비호외전']\n",
      "\n",
      "❤️ 조로사 배우가 출연한 드라마는 \n",
      " 👉 ['성한찬란']\n",
      "\n",
      "👑 추천 드라마 \n",
      " 👉 성한찬란\n"
     ]
    }
   ],
   "source": [
    "def drama(g, a):\n",
    "\n",
    "    if g in genre:\n",
    "        genres = df['장르'].str.contains(g)\n",
    "        genres = df[genres]['제목'].values\n",
    "        genres = set(genres)\n",
    "\n",
    "        if a in actor:\n",
    "            actors = df['배우'].str.contains(a)\n",
    "            actors = df[actors]['제목'].values\n",
    "            actors = set(actors)\n",
    "\n",
    "            dlist = (genres & actors)\n",
    "\n",
    "            if dlist & genres:\n",
    "\n",
    "                if dlist & actors:\n",
    "                    print(f'📺 {g} 드라마는 \\n 👉 {list(genres)}')\n",
    "                    print()\n",
    "                    print(f'❤️ {a} 배우가 출연한 드라마는 \\n 👉 {list(actors)}')\n",
    "                    print()\n",
    "                    print(f'👑 추천 드라마 \\n 👉 {choice(list(dlist))}')\n",
    "\n",
    "            else:\n",
    "                print(f'😵‍💫 {g} 드라마에 {a} 배우가 나온 드라마를 찾지 못했어요')\n",
    "                print()\n",
    "                print(f'👇 {g} 드라마와 {a} 배우가 출연한 드라마를 알려드릴게요')\n",
    "                print()\n",
    "                print(f'📺 {g} 드라마는 \\n 👉 {list(genres)}')\n",
    "                print()\n",
    "                print(f'❤️ {a} 배우가 출연한 드라마는 \\n 👉 {list(actors)}')\n",
    "\n",
    "drama('시대극', '조로사')"
   ]
  },
  {
   "cell_type": "markdown",
   "metadata": {},
   "source": [
    "- 네 번째 if문부터 choice 있는 줄 빼고 list 안해줘도 됨\n",
    "- 출력 값 보기 좋으라고 한 거임"
   ]
  },
  {
   "cell_type": "code",
   "execution_count": 142,
   "metadata": {},
   "outputs": [
    {
     "name": "stdout",
     "output_type": "stream",
     "text": [
      "📺 시대극 드라마는 \n",
      " 👉 {'성한찬란', '비호외전'}\n",
      "\n",
      "❤️ 조로사 배우가 출연한 드라마는 \n",
      " 👉 {'성한찬란'}\n",
      "\n",
      "👑 추천 드라마 \n",
      " 👉 성한찬란\n"
     ]
    }
   ],
   "source": [
    "def drama(g, a):\n",
    "\n",
    "    if g in genre:\n",
    "        genres = df['장르'].str.contains(g)\n",
    "        genres = df[genres]['제목'].values\n",
    "        genres = set(genres)\n",
    "\n",
    "        if a in actor:\n",
    "            actors = df['배우'].str.contains(a)\n",
    "            actors = df[actors]['제목'].values\n",
    "            actors = set(actors)\n",
    "\n",
    "            dlist = (genres & actors)\n",
    "\n",
    "            if dlist & genres:\n",
    "\n",
    "                if dlist & actors:\n",
    "                    print(f'📺 {g} 드라마는 \\n 👉 {genres}')\n",
    "                    print()\n",
    "                    print(f'❤️ {a} 배우가 출연한 드라마는 \\n 👉 {actors}')\n",
    "                    print()\n",
    "                    print(f'👑 추천 드라마 \\n 👉 {choice(list(dlist))}')\n",
    "\n",
    "            else:\n",
    "                print(f'😵‍💫 {g} 드라마에 {a} 배우가 나온 드라마를 찾지 못했어요')\n",
    "                print()\n",
    "                print(f'👇 {g} 드라마와 {a} 배우가 출연한 드라마를 알려드릴게요')\n",
    "                print()\n",
    "                print(f'📺 {g} 드라마는 \\n 👉 {genres}')\n",
    "                print()\n",
    "                print(f'❤️ {a} 배우가 출연한 드라마는 \\n 👉 {actors}')\n",
    "\n",
    "drama('시대극', '조로사')"
   ]
  },
  {
   "cell_type": "markdown",
   "metadata": {},
   "source": [
    "## 추천 코드 2"
   ]
  },
  {
   "cell_type": "markdown",
   "metadata": {},
   "source": [
    "### 데이터에 있을 때 실행되는 코드\n",
    "- 장르, 배우, 연도, OTT별 드라마 추천"
   ]
  },
  {
   "cell_type": "code",
   "execution_count": 151,
   "metadata": {},
   "outputs": [
    {
     "name": "stdout",
     "output_type": "stream",
     "text": [
      "📺 판타지 드라마는 \n",
      " 👉 {'아적비밀실우', '창란결'}\n",
      "\n",
      "❤️ 우서흔 배우가 출연한 드라마는 \n",
      " 👉 {'창란결'}\n",
      "\n",
      "📅 2022에 나온 드라마는 \n",
      " 👉 {'아적비밀실우', '명천야상견도니', '성한찬란', '아적반파남우', '여생청다지교', '암격리적비밀', '비호외전', '이진제연애', '견면파취현재', '창란결', '연애적하천'}\n",
      "\n",
      "🎬 아이치이에 있는 드라마는 \n",
      " 👉 {'아적비밀실우', '명천야상견도니', '아적반파남우', '견면파취현재', '창란결'}\n",
      "\n",
      "👑 추천 드라마 \n",
      " 👉 창란결\n"
     ]
    }
   ],
   "source": [
    "def drama(g, a, y, o):\n",
    "\n",
    "    if g in genre:\n",
    "        genres = df['장르'].str.contains(g)\n",
    "        genres = df[genres]['제목'].values\n",
    "        genres = set(genres)\n",
    "        print(f'📺 {g} 드라마는 \\n 👉 {genres}')\n",
    "\n",
    "        if a in actor:\n",
    "            actors = df['배우'].str.contains(a)\n",
    "            actors = df[actors]['제목'].values\n",
    "            actors = set(actors)\n",
    "            print()\n",
    "            print(f'❤️ {a} 배우가 출연한 드라마는 \\n 👉 {actors}')\n",
    "\n",
    "            if y in year:\n",
    "                years = (df['연도'] == y)\n",
    "                years = df[years]['제목'].values\n",
    "                years = set(list(years))\n",
    "                print()\n",
    "                print(f'📅 {y}에 나온 드라마는 \\n 👉 {years}')\n",
    "\n",
    "                if o in OTT:\n",
    "                    OTTs = df['OTT'].str.contains(o)\n",
    "                    OTTs = df[OTTs]['제목'].values\n",
    "                    OTTs = set(OTTs)\n",
    "                    print()\n",
    "                    print(f'🎬 {o}에 있는 드라마는 \\n 👉 {OTTs}')\n",
    "                    print()\n",
    "                    print(f'👑 추천 드라마 \\n 👉 {choice(list(genres & actors))}')\n",
    "\n",
    "drama('판타지', '우서흔', 2022, '아이치이')"
   ]
  },
  {
   "cell_type": "markdown",
   "metadata": {},
   "source": [
    "### 데이터가 없어도 실행되는 코드\n",
    "- 장르, 배우, 연도, OTT별 드라마 추천"
   ]
  },
  {
   "cell_type": "code",
   "execution_count": 161,
   "metadata": {},
   "outputs": [
    {
     "name": "stdout",
     "output_type": "stream",
     "text": [
      "😵‍💫 드라마를 찾지 못했어요\n",
      "\n",
      "👇 관련 드라마 리스트를 보여드릴게요\n",
      "\n",
      "📺 판타지 드라마는 \n",
      " 👉 {'아적비밀실우', '창란결'}\n",
      "\n",
      "❤️ 우서흔 배우가 출연한 드라마는 \n",
      " 👉 {'창란결'}\n",
      "\n",
      "📅 2022에 나온 드라마는 \n",
      " 👉 {'아적비밀실우', '명천야상견도니', '성한찬란', '아적반파남우', '여생청다지교', '암격리적비밀', '비호외전', '이진제연애', '견면파취현재', '창란결', '연애적하천'}\n",
      "\n",
      "🎬 위티비에 있는 드라마는 \n",
      " 👉 {'성한찬란', '비호외전', '연애적하천'}\n"
     ]
    }
   ],
   "source": [
    "def drama(g, a, y, o):\n",
    "\n",
    "    if g in genre:\n",
    "        genres = df['장르'].str.contains(g)\n",
    "        genres = df[genres]['제목'].values\n",
    "        genres = set(genres)\n",
    "\n",
    "        if a in actor:\n",
    "            actors = df['배우'].str.contains(a)\n",
    "            actors = df[actors]['제목'].values\n",
    "            actors = set(actors)\n",
    "\n",
    "            if y in year:\n",
    "                years = (df['연도'] == y)\n",
    "                years = df[years]['제목'].values\n",
    "                years = set(list(years))\n",
    "\n",
    "                if o in OTT:\n",
    "                    OTTs = df['OTT'].str.contains(o)\n",
    "                    OTTs = df[OTTs]['제목'].values\n",
    "                    OTTs = set(OTTs)\n",
    "\n",
    "                    dlist = (genres & actors & years & OTTs)   \n",
    "\n",
    "                    if dlist & genres:\n",
    "\n",
    "                        if dlist & actors:\n",
    "                        \n",
    "                            if dlist & years:\n",
    "\n",
    "                                if dlist & OTTs:\n",
    "                                    print(f'📺 {g} 드라마는 \\n 👉 {genres}')\n",
    "                                    print()\n",
    "                                    print(f'❤️ {a} 배우가 출연한 드라마는 \\n 👉 {actors}')\n",
    "                                    print()\n",
    "                                    print(f'📅 {y}에 나온 드라마는 \\n 👉 {years}')\n",
    "                                    print()\n",
    "                                    print(f'🎬 {o}에 있는 드라마는 \\n 👉 {OTTs}')\n",
    "                                    print()\n",
    "                                    print(f'👑 추천 드라마 \\n 👉 {choice(list(dlist))}')\n",
    "\n",
    "                    else:\n",
    "                        print(f'😵‍💫 드라마를 찾지 못했어요')\n",
    "                        print()\n",
    "                        print(f'👇 관련 드라마 리스트를 보여드릴게요')\n",
    "                        print()\n",
    "                        print(f'📺 {g} 드라마는 \\n 👉 {genres}')\n",
    "                        print()\n",
    "                        print(f'❤️ {a} 배우가 출연한 드라마는 \\n 👉 {actors}')\n",
    "                        print()\n",
    "                        print(f'📅 {y}에 나온 드라마는 \\n 👉 {years}')\n",
    "                        print()\n",
    "                        print(f'🎬 {o}에 있는 드라마는 \\n 👉 {OTTs}')\n",
    "                        \n",
    "\n",
    "drama('판타지', '우서흔', 2022, '위티비')"
   ]
  }
 ],
 "metadata": {
  "kernelspec": {
   "display_name": "Python 3.10.4 64-bit",
   "language": "python",
   "name": "python3"
  },
  "language_info": {
   "codemirror_mode": {
    "name": "ipython",
    "version": 3
   },
   "file_extension": ".py",
   "mimetype": "text/x-python",
   "name": "python",
   "nbconvert_exporter": "python",
   "pygments_lexer": "ipython3",
   "version": "3.10.4"
  },
  "orig_nbformat": 4,
  "vscode": {
   "interpreter": {
    "hash": "033226dd330b46fd1414d501f82e7e5add96f6da9572c55259e512efcccfd085"
   }
  }
 },
 "nbformat": 4,
 "nbformat_minor": 2
}
